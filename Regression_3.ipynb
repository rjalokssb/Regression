{
  "nbformat": 4,
  "nbformat_minor": 0,
  "metadata": {
    "colab": {
      "provenance": []
    },
    "kernelspec": {
      "name": "python3",
      "display_name": "Python 3"
    },
    "language_info": {
      "name": "python"
    }
  },
  "cells": [
    {
      "cell_type": "markdown",
      "source": [
        "Q1. What is Ridge Regression, and how does it differ from ordinary least squares regression?"
      ],
      "metadata": {
        "id": "3wqHTEgvLbyN"
      }
    },
    {
      "cell_type": "code",
      "source": [
        "# Ridge Regression is a regularized version of OLS regression that can help prevent overfitting and improve generalization performance.\n",
        "# It differs from OLS regression by adding a penalty term to the sum of the squared errors and introducing a hyperparameter to control the strength of the regularization."
      ],
      "metadata": {
        "id": "w0xaYgsTLucV"
      },
      "execution_count": null,
      "outputs": []
    },
    {
      "cell_type": "markdown",
      "source": [
        "Q2. What are the assumptions of Ridge Regression?"
      ],
      "metadata": {
        "id": "H434lpRGLbud"
      }
    },
    {
      "cell_type": "code",
      "source": [
        "# Linearity\n",
        "# Independence\n",
        "# Homoscedasticity\n",
        "# Normality\n",
        "# No multicollinearity"
      ],
      "metadata": {
        "id": "HxTIq5nzNSTs"
      },
      "execution_count": null,
      "outputs": []
    },
    {
      "cell_type": "markdown",
      "source": [
        "Q3. How do you select the value of the tuning parameter (lambda) in Ridge Regression?"
      ],
      "metadata": {
        "id": "y3Wph2UJLbrO"
      }
    },
    {
      "cell_type": "code",
      "source": [
        "# it is recommended to use cross-validation or grid search to select the value of lambda in Ridge Regression."
      ],
      "metadata": {
        "id": "pdikIDhKNStj"
      },
      "execution_count": null,
      "outputs": []
    },
    {
      "cell_type": "markdown",
      "source": [
        "Q4. Can Ridge Regression be used for feature selection? If yes, how?"
      ],
      "metadata": {
        "id": "EtIa0mAtLbn3"
      }
    },
    {
      "cell_type": "code",
      "source": [
        "#  Ridge Regression is not specifically designed for feature selection, and other techniques such as Lasso Regression or Elastic Net Regression may be more effective in some cases. "
      ],
      "metadata": {
        "id": "XD3kGig_NTYj"
      },
      "execution_count": null,
      "outputs": []
    },
    {
      "cell_type": "markdown",
      "source": [
        "Q5. How does the Ridge Regression model perform in the presence of multicollinearity?"
      ],
      "metadata": {
        "id": "3I6wVyOqLbkl"
      }
    },
    {
      "cell_type": "code",
      "source": [
        "# In Ridge Regression, the L2 penalty term adds a constraint to the magnitude of the regression coefficients, which helps to reduce the impact of multicollinearity on the estimates of the regression coefficients. The penalty term shrinks the coefficients towards zero, which helps to reduce the variance of the estimates and improve the stability of the model."
      ],
      "metadata": {
        "id": "tY_ZNfPnNTu8"
      },
      "execution_count": null,
      "outputs": []
    },
    {
      "cell_type": "markdown",
      "source": [
        "Q6. Can Ridge Regression handle both categorical and continuous independent variables?"
      ],
      "metadata": {
        "id": "_eVlRmRXLbhd"
      }
    },
    {
      "cell_type": "code",
      "source": [
        "# yes"
      ],
      "metadata": {
        "id": "ZLWk0tKYNUGV"
      },
      "execution_count": null,
      "outputs": []
    },
    {
      "cell_type": "markdown",
      "source": [
        "Q7. How do you interpret the coefficients of Ridge Regression?"
      ],
      "metadata": {
        "id": "L125KhZELook"
      }
    },
    {
      "cell_type": "code",
      "source": [
        "#  interpreting the coefficients in Ridge Regression requires taking into account the effect of the L2 penalty term and the scaling of the independent variables, and comparing the magnitude of the coefficients within the same model and for the same value of lambda. "
      ],
      "metadata": {
        "id": "YuuUz2IdNUcD"
      },
      "execution_count": null,
      "outputs": []
    },
    {
      "cell_type": "markdown",
      "source": [
        "Q8. Can Ridge Regression be used for time-series data analysis? If yes, how?"
      ],
      "metadata": {
        "id": "goUdgokMLpG0"
      }
    },
    {
      "cell_type": "code",
      "execution_count": null,
      "metadata": {
        "id": "6gGGhVIwLaiy"
      },
      "outputs": [],
      "source": [
        "# Yes, Ridge Regression can be used for time-series data analysis, but some modifications may be needed to account for the autocorrelation structure of the data. Time-series data are typically characterized by a temporal dependence structure, where each observation is correlated with the previous observations."
      ]
    }
  ]
}